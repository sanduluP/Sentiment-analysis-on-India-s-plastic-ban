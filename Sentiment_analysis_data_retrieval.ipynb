{
 "cells": [
  {
   "cell_type": "code",
   "execution_count": 1,
   "id": "ae4d5131",
   "metadata": {},
   "outputs": [],
   "source": [
    "#import libraries\n",
    "import pandas as pd\n",
    "import numpy as np\n",
    "import re\n",
    "import tweepy\n",
    "import seaborn as sns\n",
    "import matplotlib.pyplot as plt\n",
    "from matplotlib import style\n",
    "style.use('ggplot')\n",
    "from nltk.tokenize import word_tokenize\n",
    "from nltk.stem import PorterStemmer\n",
    "from nltk.corpus import stopwords\n",
    "stop_words = set(stopwords.words('english'))\n",
    "from wordcloud import WordCloud\n",
    "from sklearn.feature_extraction.text import CountVectorizer\n",
    "from sklearn.model_selection import train_test_split\n",
    "from sklearn.linear_model import LogisticRegression\n",
    "from sklearn.metrics import accuracy_score, classification_report, confusion_matrix, ConfusionMatrixDisplay\n",
    "#plt.style.use('fivethirtyeight')\n",
    "\n",
    "from textblob import TextBlob"
   ]
  },
  {
   "cell_type": "code",
   "execution_count": 2,
   "id": "ad5cbb23",
   "metadata": {},
   "outputs": [],
   "source": [
    "#Get login data\n",
    "log = pd.read_csv('Tweeter_Login.csv')"
   ]
  },
  {
   "cell_type": "code",
   "execution_count": 3,
   "id": "f1c3dcec",
   "metadata": {},
   "outputs": [],
   "source": [
    "#Twitter API credential\n",
    "#create app in developer tweeter account to get the below details\n",
    "consumer_key = log['consumer_key'][0]\n",
    "consumer_secret = log['consumer_secret'][0]\n",
    "access_token = log['access_token'][0]\n",
    "access_token_secret = log['access_token_secret'][0]"
   ]
  },
  {
   "cell_type": "code",
   "execution_count": 4,
   "id": "452b37cc",
   "metadata": {},
   "outputs": [
    {
     "name": "stdout",
     "output_type": "stream",
     "text": [
      "Successful Authentication\n"
     ]
    }
   ],
   "source": [
    "#authenticate the token\n",
    "try:\n",
    "    #create OAuthHandler object\n",
    "    auth = tweepy.OAuthHandler(consumer_key, consumer_secret)\n",
    "    #set access token and secret\n",
    "    auth.set_access_token(access_token,access_token_secret)\n",
    "    #create tweepy API object to fetch tweets\n",
    "    api = tweepy.API(auth, wait_on_rate_limit=True) \n",
    "    api.verify_credentials()\n",
    "    print('Successful Authentication')\n",
    "except:\n",
    "    print('Error: Authentication failed.')"
   ]
  },
  {
   "cell_type": "code",
   "execution_count": null,
   "id": "5fa50201",
   "metadata": {},
   "outputs": [],
   "source": [
    "search_topics = [\"#SayNoToSingleUsePlastic\", \"Plastic Ban\", \"Polythene Ban\", \"Plastic Pollution\"]\n",
    "data=[]\n",
    "max_tweets = 10000000\n",
    "max_tweet_per_page = 500\n",
    "for search_term in search_topics:\n",
    "    posts = tweepy.Cursor(api.search_tweets, q = search_term + \" -filter:retweets\", \n",
    "                          lang = 'en', result_type = \"mixed\", count = max_tweet_per_page, \n",
    "                          tweet_mode=\"extended\").items(max_tweets)\n",
    "    \n",
    "    for tweet in posts:\n",
    "         data.append({tweet.full_text})\n",
    "\n",
    "df = pd.DataFrame(data, columns=['Tweets'])\n",
    "df.to_csv(\"tweet_data.csv\")"
   ]
  },
  {
   "cell_type": "code",
   "execution_count": 6,
   "id": "d7504ced",
   "metadata": {},
   "outputs": [
    {
     "name": "stdout",
     "output_type": "stream",
     "text": [
      "<class 'pandas.core.frame.DataFrame'>\n",
      "RangeIndex: 3393 entries, 0 to 3392\n",
      "Data columns (total 1 columns):\n",
      " #   Column  Non-Null Count  Dtype \n",
      "---  ------  --------------  ----- \n",
      " 0   Tweets  3393 non-null   object\n",
      "dtypes: object(1)\n",
      "memory usage: 26.6+ KB\n"
     ]
    }
   ],
   "source": [
    "df.info()"
   ]
  }
 ],
 "metadata": {
  "kernelspec": {
   "display_name": "Python 3",
   "language": "python",
   "name": "python3"
  },
  "language_info": {
   "codemirror_mode": {
    "name": "ipython",
    "version": 3
   },
   "file_extension": ".py",
   "mimetype": "text/x-python",
   "name": "python",
   "nbconvert_exporter": "python",
   "pygments_lexer": "ipython3",
   "version": "3.8.8"
  }
 },
 "nbformat": 4,
 "nbformat_minor": 5
}
